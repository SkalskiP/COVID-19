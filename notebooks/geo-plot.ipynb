{
 "cells": [
  {
   "cell_type": "markdown",
   "metadata": {},
   "source": [
    "## 00. Imports"
   ]
  },
  {
   "cell_type": "code",
   "execution_count": 1,
   "metadata": {},
   "outputs": [],
   "source": [
    "import warnings\n",
    "warnings.filterwarnings('ignore')"
   ]
  },
  {
   "cell_type": "code",
   "execution_count": 2,
   "metadata": {},
   "outputs": [],
   "source": [
    "import os\n",
    "import numpy as np\n",
    "import pandas as pd\n",
    "import matplotlib.pyplot as plt\n",
    "from mpl_toolkits.basemap import Basemap\n",
    "from datetime import datetime\n",
    "from tqdm import tqdm_notebook\n",
    "\n",
    "%matplotlib inline"
   ]
  },
  {
   "cell_type": "markdown",
   "metadata": {},
   "source": [
    "## 01. Settings"
   ]
  },
  {
   "cell_type": "code",
   "execution_count": 3,
   "metadata": {},
   "outputs": [],
   "source": [
    "BG_COLOR = \"black\"\n",
    "FILL_COLOR = \"gray\"\n",
    "\n",
    "TS_CONFIRMED = \"../data/hopkins/time_series-ncov-Confirmed.csv\"\n",
    "COLUMN_NAMES = [\n",
    "    \"Province/State\",\n",
    "    \"Country/Region\",\n",
    "    \"Lat\",\n",
    "    \"Long\",\n",
    "    \"Date\",\n",
    "    \"Value\"\n",
    "]\n",
    "\n",
    "TARGET_DIR = \"../viz/geo\""
   ]
  },
  {
   "cell_type": "markdown",
   "metadata": {},
   "source": [
    "## 02. Plotting function"
   ]
  },
  {
   "cell_type": "code",
   "execution_count": 4,
   "metadata": {},
   "outputs": [],
   "source": [
    "def draw_geo_plot(lat: np.array, lon: np.array, val: np.array, title: str, sub_title: str, fig_size=(16,20), path: str = None) -> None:\n",
    "    fig = plt.figure(figsize=fig_size)\n",
    "    plt.style.use('dark_background')\n",
    "    plt.annotate(sub_title, xy=(0.025, 0.05), xycoords='axes fraction', color=\"white\", fontsize=16)\n",
    "    \n",
    "    m = Basemap(projection='mill',llcrnrlat=-60,urcrnrlat=85,\n",
    "                llcrnrlon=-180,urcrnrlon=180,resolution='c')\n",
    "    \n",
    "    m.drawmapboundary(color=BG_COLOR, linewidth=0.0, fill_color=BG_COLOR)\n",
    "    m.fillcontinents(FILL_COLOR, lake_color=BG_COLOR)\n",
    "    m.drawcountries(linewidth=0.5, linestyle='solid', color=BG_COLOR, zorder=30)\n",
    "    \n",
    "    x1, y1 = m(lon, lat)\n",
    "    m.scatter(x1, y1, s=val*0.25, marker=\"o\", color=\"red\", zorder=10, \n",
    "              alpha=0.7, edgecolors=\"red\")\n",
    "    \n",
    "    plt.title(title, fontsize=24, y=1.05)\n",
    "    \n",
    "    if path is not None:\n",
    "        plt.savefig(path, bbox_inches=\"tight\")\n",
    "    else:\n",
    "        plt.show()"
   ]
  },
  {
   "cell_type": "code",
   "execution_count": 5,
   "metadata": {},
   "outputs": [],
   "source": [
    "def make_plot_with_data(df: pd.DataFrame, date: str, path: str) -> None:\n",
    "    df_day = df[df[\"Date\"] == date]\n",
    "    lat = np.squeeze(df_day[[\"Lat\"]].to_numpy())\n",
    "    lon = np.squeeze(df_day[[\"Long\"]].to_numpy())\n",
    "    val = np.squeeze(df_day[[\"Value\"]].to_numpy())\n",
    "    title = \"COVID-19 CONFIRMED CASES\"\n",
    "    sub_title = datetime.strftime(datetime.strptime(date, \"%Y-%m-%d\"), \"%b %d %Y\")\n",
    "    draw_geo_plot(lat=lat, lon=lon, val=val, title=title, sub_title=sub_title, path=path)"
   ]
  },
  {
   "cell_type": "markdown",
   "metadata": {},
   "source": [
    "## 03. Load data"
   ]
  },
  {
   "cell_type": "code",
   "execution_count": 6,
   "metadata": {},
   "outputs": [
    {
     "data": {
      "text/html": [
       "<div>\n",
       "<style scoped>\n",
       "    .dataframe tbody tr th:only-of-type {\n",
       "        vertical-align: middle;\n",
       "    }\n",
       "\n",
       "    .dataframe tbody tr th {\n",
       "        vertical-align: top;\n",
       "    }\n",
       "\n",
       "    .dataframe thead th {\n",
       "        text-align: right;\n",
       "    }\n",
       "</style>\n",
       "<table border=\"1\" class=\"dataframe\">\n",
       "  <thead>\n",
       "    <tr style=\"text-align: right;\">\n",
       "      <th></th>\n",
       "      <th>Province/State</th>\n",
       "      <th>Country/Region</th>\n",
       "      <th>Lat</th>\n",
       "      <th>Long</th>\n",
       "      <th>Date</th>\n",
       "      <th>Value</th>\n",
       "    </tr>\n",
       "  </thead>\n",
       "  <tbody>\n",
       "    <tr>\n",
       "      <th>0</th>\n",
       "      <td>NaN</td>\n",
       "      <td>Afghanistan</td>\n",
       "      <td>33.0</td>\n",
       "      <td>65.0</td>\n",
       "      <td>2020-03-13</td>\n",
       "      <td>7</td>\n",
       "    </tr>\n",
       "    <tr>\n",
       "      <th>1</th>\n",
       "      <td>NaN</td>\n",
       "      <td>Afghanistan</td>\n",
       "      <td>33.0</td>\n",
       "      <td>65.0</td>\n",
       "      <td>2020-03-12</td>\n",
       "      <td>7</td>\n",
       "    </tr>\n",
       "    <tr>\n",
       "      <th>2</th>\n",
       "      <td>NaN</td>\n",
       "      <td>Afghanistan</td>\n",
       "      <td>33.0</td>\n",
       "      <td>65.0</td>\n",
       "      <td>2020-03-11</td>\n",
       "      <td>7</td>\n",
       "    </tr>\n",
       "    <tr>\n",
       "      <th>3</th>\n",
       "      <td>NaN</td>\n",
       "      <td>Afghanistan</td>\n",
       "      <td>33.0</td>\n",
       "      <td>65.0</td>\n",
       "      <td>2020-03-10</td>\n",
       "      <td>5</td>\n",
       "    </tr>\n",
       "    <tr>\n",
       "      <th>4</th>\n",
       "      <td>NaN</td>\n",
       "      <td>Afghanistan</td>\n",
       "      <td>33.0</td>\n",
       "      <td>65.0</td>\n",
       "      <td>2020-03-09</td>\n",
       "      <td>4</td>\n",
       "    </tr>\n",
       "  </tbody>\n",
       "</table>\n",
       "</div>"
      ],
      "text/plain": [
       "  Province/State Country/Region   Lat  Long        Date  Value\n",
       "0            NaN    Afghanistan  33.0  65.0  2020-03-13      7\n",
       "1            NaN    Afghanistan  33.0  65.0  2020-03-12      7\n",
       "2            NaN    Afghanistan  33.0  65.0  2020-03-11      7\n",
       "3            NaN    Afghanistan  33.0  65.0  2020-03-10      5\n",
       "4            NaN    Afghanistan  33.0  65.0  2020-03-09      4"
      ]
     },
     "execution_count": 6,
     "metadata": {},
     "output_type": "execute_result"
    }
   ],
   "source": [
    "df = pd.read_csv(TS_CONFIRMED, skiprows=2, names=COLUMN_NAMES)\n",
    "df.head()"
   ]
  },
  {
   "cell_type": "code",
   "execution_count": 7,
   "metadata": {},
   "outputs": [],
   "source": [
    "dates = np.sort(df[\"Date\"].unique())"
   ]
  },
  {
   "cell_type": "markdown",
   "metadata": {},
   "source": [
    "## 04. Make plot"
   ]
  },
  {
   "cell_type": "code",
   "execution_count": null,
   "metadata": {},
   "outputs": [],
   "source": [
    "# for idx, date in tqdm_notebook(enumerate(dates)):\n",
    "#     file_name = \"{:03}.png\".format(idx)\n",
    "#     file_path = os.path.join(TARGET_DIR, file_name)\n",
    "#     make_plot_with_data(df, date, file_path)"
   ]
  }
 ],
 "metadata": {
  "kernelspec": {
   "display_name": "Python 3",
   "language": "python",
   "name": "python3"
  },
  "language_info": {
   "codemirror_mode": {
    "name": "ipython",
    "version": 3
   },
   "file_extension": ".py",
   "mimetype": "text/x-python",
   "name": "python",
   "nbconvert_exporter": "python",
   "pygments_lexer": "ipython3",
   "version": "3.7.3"
  }
 },
 "nbformat": 4,
 "nbformat_minor": 4
}
